{
  "nbformat": 4,
  "nbformat_minor": 0,
  "metadata": {
    "colab": {
      "name": "UK_rainfall_analysis.ipynb",
      "provenance": [],
      "toc_visible": true,
      "authorship_tag": "ABX9TyOF2KKeJAN6Ng9fQrE31twI",
      "include_colab_link": true
    },
    "kernelspec": {
      "name": "python3",
      "display_name": "Python 3"
    },
    "language_info": {
      "name": "python"
    }
  },
  "cells": [
    {
      "cell_type": "markdown",
      "metadata": {
        "id": "view-in-github",
        "colab_type": "text"
      },
      "source": [
        "<a href=\"https://colab.research.google.com/github/abhiraj-mengade/ML-AI-practice-Notebooks-/blob/main/UK_rainfall_analysis/UK_rainfall_analysis.ipynb\" target=\"_parent\"><img src=\"https://colab.research.google.com/assets/colab-badge.svg\" alt=\"Open In Colab\"/></a>"
      ]
    },
    {
      "cell_type": "code",
      "metadata": {
        "id": "rj2QQ8w1xuyH"
      },
      "source": [
        "#imports\n",
        "import pandas as pd\n",
        "import numpy as np\n",
        "import seaborn as sns\n",
        "import matplotlib.pyplot as plt\n"
      ],
      "execution_count": 23,
      "outputs": []
    },
    {
      "cell_type": "code",
      "metadata": {
        "colab": {
          "base_uri": "https://localhost:8080/",
          "height": 205
        },
        "id": "b6QktX8A7s86",
        "outputId": "3d24dec5-1958-4487-d70e-8bd3ba990749"
      },
      "source": [
        "#file\n",
        "filename = \"https://raw.githubusercontent.com/abhiraj-mengade/ML-AI-practice-Notebooks-/main/UK_rainfall_analysis/uk_rainfall.csv\"\n",
        "df = pd.read_csv(filename)\n",
        "df_1 = df.copy()\n",
        "df.head()"
      ],
      "execution_count": 16,
      "outputs": [
        {
          "output_type": "execute_result",
          "data": {
            "text/html": [
              "<div>\n",
              "<style scoped>\n",
              "    .dataframe tbody tr th:only-of-type {\n",
              "        vertical-align: middle;\n",
              "    }\n",
              "\n",
              "    .dataframe tbody tr th {\n",
              "        vertical-align: top;\n",
              "    }\n",
              "\n",
              "    .dataframe thead th {\n",
              "        text-align: right;\n",
              "    }\n",
              "</style>\n",
              "<table border=\"1\" class=\"dataframe\">\n",
              "  <thead>\n",
              "    <tr style=\"text-align: right;\">\n",
              "      <th></th>\n",
              "      <th>Year</th>\n",
              "      <th>Type of period</th>\n",
              "      <th>Period</th>\n",
              "      <th>Avg rainfall(in mm)</th>\n",
              "      <th>Avg temp(in centigrade)</th>\n",
              "    </tr>\n",
              "  </thead>\n",
              "  <tbody>\n",
              "    <tr>\n",
              "      <th>0</th>\n",
              "      <td>2010</td>\n",
              "      <td>Monthly</td>\n",
              "      <td>JAN</td>\n",
              "      <td>69.5</td>\n",
              "      <td>0.8</td>\n",
              "    </tr>\n",
              "    <tr>\n",
              "      <th>1</th>\n",
              "      <td>2010</td>\n",
              "      <td>Monthly</td>\n",
              "      <td>FEB</td>\n",
              "      <td>71.7</td>\n",
              "      <td>1.6</td>\n",
              "    </tr>\n",
              "    <tr>\n",
              "      <th>2</th>\n",
              "      <td>2010</td>\n",
              "      <td>Monthly</td>\n",
              "      <td>MAR</td>\n",
              "      <td>65.1</td>\n",
              "      <td>5.5</td>\n",
              "    </tr>\n",
              "    <tr>\n",
              "      <th>3</th>\n",
              "      <td>2010</td>\n",
              "      <td>Monthly</td>\n",
              "      <td>APR</td>\n",
              "      <td>21.4</td>\n",
              "      <td>8.2</td>\n",
              "    </tr>\n",
              "    <tr>\n",
              "      <th>4</th>\n",
              "      <td>2010</td>\n",
              "      <td>Monthly</td>\n",
              "      <td>MAY</td>\n",
              "      <td>22.1</td>\n",
              "      <td>9.8</td>\n",
              "    </tr>\n",
              "  </tbody>\n",
              "</table>\n",
              "</div>"
            ],
            "text/plain": [
              "   Year Type of period Period  Avg rainfall(in mm)  Avg temp(in centigrade)\n",
              "0  2010        Monthly    JAN                 69.5                      0.8\n",
              "1  2010        Monthly    FEB                 71.7                      1.6\n",
              "2  2010        Monthly    MAR                 65.1                      5.5\n",
              "3  2010        Monthly    APR                 21.4                      8.2\n",
              "4  2010        Monthly    MAY                 22.1                      9.8"
            ]
          },
          "metadata": {
            "tags": []
          },
          "execution_count": 16
        }
      ]
    },
    {
      "cell_type": "code",
      "metadata": {
        "colab": {
          "base_uri": "https://localhost:8080/",
          "height": 516
        },
        "id": "DCO2giJU8Azs",
        "outputId": "5e4c6ab9-6cd1-43c5-ecfa-e63d0b6878a9"
      },
      "source": [
        "#cleanup \n",
        "df = df.rename(columns={\"Type of period\": \"Type\",\"Avg rainfall(in mm)\": \"rainfall\", \"Avg temp(in centigrade)\": \"Temp\"\t})\n",
        "df_season = df[df[\"Type\"] == \"Season\"] \n",
        "df = df.drop(df_season.index, axis=0)\n",
        "df_year = df[ df['Type'] == \"Calendar Year\" ] \n",
        "df = df.drop(df_year.index, axis=0)  \n",
        "df.reset_index(inplace = True)\n",
        "df.head(15)"
      ],
      "execution_count": 22,
      "outputs": [
        {
          "output_type": "execute_result",
          "data": {
            "text/html": [
              "<div>\n",
              "<style scoped>\n",
              "    .dataframe tbody tr th:only-of-type {\n",
              "        vertical-align: middle;\n",
              "    }\n",
              "\n",
              "    .dataframe tbody tr th {\n",
              "        vertical-align: top;\n",
              "    }\n",
              "\n",
              "    .dataframe thead th {\n",
              "        text-align: right;\n",
              "    }\n",
              "</style>\n",
              "<table border=\"1\" class=\"dataframe\">\n",
              "  <thead>\n",
              "    <tr style=\"text-align: right;\">\n",
              "      <th></th>\n",
              "      <th>index</th>\n",
              "      <th>Year</th>\n",
              "      <th>Type</th>\n",
              "      <th>Period</th>\n",
              "      <th>rainfall</th>\n",
              "      <th>Temp</th>\n",
              "    </tr>\n",
              "  </thead>\n",
              "  <tbody>\n",
              "    <tr>\n",
              "      <th>0</th>\n",
              "      <td>0</td>\n",
              "      <td>2010</td>\n",
              "      <td>Monthly</td>\n",
              "      <td>JAN</td>\n",
              "      <td>69.5</td>\n",
              "      <td>0.8</td>\n",
              "    </tr>\n",
              "    <tr>\n",
              "      <th>1</th>\n",
              "      <td>1</td>\n",
              "      <td>2010</td>\n",
              "      <td>Monthly</td>\n",
              "      <td>FEB</td>\n",
              "      <td>71.7</td>\n",
              "      <td>1.6</td>\n",
              "    </tr>\n",
              "    <tr>\n",
              "      <th>2</th>\n",
              "      <td>2</td>\n",
              "      <td>2010</td>\n",
              "      <td>Monthly</td>\n",
              "      <td>MAR</td>\n",
              "      <td>65.1</td>\n",
              "      <td>5.5</td>\n",
              "    </tr>\n",
              "    <tr>\n",
              "      <th>3</th>\n",
              "      <td>3</td>\n",
              "      <td>2010</td>\n",
              "      <td>Monthly</td>\n",
              "      <td>APR</td>\n",
              "      <td>21.4</td>\n",
              "      <td>8.2</td>\n",
              "    </tr>\n",
              "    <tr>\n",
              "      <th>4</th>\n",
              "      <td>4</td>\n",
              "      <td>2010</td>\n",
              "      <td>Monthly</td>\n",
              "      <td>MAY</td>\n",
              "      <td>22.1</td>\n",
              "      <td>9.8</td>\n",
              "    </tr>\n",
              "    <tr>\n",
              "      <th>5</th>\n",
              "      <td>5</td>\n",
              "      <td>2010</td>\n",
              "      <td>Monthly</td>\n",
              "      <td>JUN</td>\n",
              "      <td>42.7</td>\n",
              "      <td>14.3</td>\n",
              "    </tr>\n",
              "    <tr>\n",
              "      <th>6</th>\n",
              "      <td>6</td>\n",
              "      <td>2010</td>\n",
              "      <td>Monthly</td>\n",
              "      <td>JUL</td>\n",
              "      <td>61.1</td>\n",
              "      <td>16.4</td>\n",
              "    </tr>\n",
              "    <tr>\n",
              "      <th>7</th>\n",
              "      <td>7</td>\n",
              "      <td>2010</td>\n",
              "      <td>Monthly</td>\n",
              "      <td>AUG</td>\n",
              "      <td>76.6</td>\n",
              "      <td>14.6</td>\n",
              "    </tr>\n",
              "    <tr>\n",
              "      <th>8</th>\n",
              "      <td>8</td>\n",
              "      <td>2010</td>\n",
              "      <td>Monthly</td>\n",
              "      <td>SEP</td>\n",
              "      <td>83.9</td>\n",
              "      <td>13.4</td>\n",
              "    </tr>\n",
              "    <tr>\n",
              "      <th>9</th>\n",
              "      <td>9</td>\n",
              "      <td>2010</td>\n",
              "      <td>Monthly</td>\n",
              "      <td>OCT</td>\n",
              "      <td>65.0</td>\n",
              "      <td>9.6</td>\n",
              "    </tr>\n",
              "    <tr>\n",
              "      <th>10</th>\n",
              "      <td>10</td>\n",
              "      <td>2010</td>\n",
              "      <td>Monthly</td>\n",
              "      <td>NOV</td>\n",
              "      <td>118.2</td>\n",
              "      <td>4.5</td>\n",
              "    </tr>\n",
              "    <tr>\n",
              "      <th>11</th>\n",
              "      <td>11</td>\n",
              "      <td>2010</td>\n",
              "      <td>Monthly</td>\n",
              "      <td>DEC</td>\n",
              "      <td>40.7</td>\n",
              "      <td>-1.2</td>\n",
              "    </tr>\n",
              "    <tr>\n",
              "      <th>12</th>\n",
              "      <td>17</td>\n",
              "      <td>2011</td>\n",
              "      <td>Monthly</td>\n",
              "      <td>JAN</td>\n",
              "      <td>54.5</td>\n",
              "      <td>3.1</td>\n",
              "    </tr>\n",
              "    <tr>\n",
              "      <th>13</th>\n",
              "      <td>18</td>\n",
              "      <td>2011</td>\n",
              "      <td>Monthly</td>\n",
              "      <td>FEB</td>\n",
              "      <td>82.0</td>\n",
              "      <td>5.4</td>\n",
              "    </tr>\n",
              "    <tr>\n",
              "      <th>14</th>\n",
              "      <td>19</td>\n",
              "      <td>2011</td>\n",
              "      <td>Monthly</td>\n",
              "      <td>MAR</td>\n",
              "      <td>20.5</td>\n",
              "      <td>6.0</td>\n",
              "    </tr>\n",
              "  </tbody>\n",
              "</table>\n",
              "</div>"
            ],
            "text/plain": [
              "    index  Year     Type Period  rainfall  Temp\n",
              "0       0  2010  Monthly    JAN      69.5   0.8\n",
              "1       1  2010  Monthly    FEB      71.7   1.6\n",
              "2       2  2010  Monthly    MAR      65.1   5.5\n",
              "3       3  2010  Monthly    APR      21.4   8.2\n",
              "4       4  2010  Monthly    MAY      22.1   9.8\n",
              "5       5  2010  Monthly    JUN      42.7  14.3\n",
              "6       6  2010  Monthly    JUL      61.1  16.4\n",
              "7       7  2010  Monthly    AUG      76.6  14.6\n",
              "8       8  2010  Monthly    SEP      83.9  13.4\n",
              "9       9  2010  Monthly    OCT      65.0   9.6\n",
              "10     10  2010  Monthly    NOV     118.2   4.5\n",
              "11     11  2010  Monthly    DEC      40.7  -1.2\n",
              "12     17  2011  Monthly    JAN      54.5   3.1\n",
              "13     18  2011  Monthly    FEB      82.0   5.4\n",
              "14     19  2011  Monthly    MAR      20.5   6.0"
            ]
          },
          "metadata": {
            "tags": []
          },
          "execution_count": 22
        }
      ]
    },
    {
      "cell_type": "code",
      "metadata": {
        "id": "-_vR-6zIAsj7"
      },
      "source": [
        "#Yearly analysis\n",
        "df_year.reset_index(inplace = True)\n",
        "df_season.reset_index(inplace = True)"
      ],
      "execution_count": null,
      "outputs": []
    },
    {
      "cell_type": "code",
      "metadata": {
        "colab": {
          "base_uri": "https://localhost:8080/",
          "height": 366
        },
        "id": "0BdrdcqUC-f5",
        "outputId": "a6e0bab6-8db6-4af9-ce40-9d6d29ac50f0"
      },
      "source": [
        "#Year- Month \n",
        "plt.figure(figsize=(50, 50))\n",
        "sns.lmplot(x = \"Year\", y=\"rainfall\", data = df, fit_reg=False, hue = \"Period\", aspect=2)\n"
      ],
      "execution_count": 34,
      "outputs": [
        {
          "output_type": "execute_result",
          "data": {
            "text/plain": [
              "<seaborn.axisgrid.FacetGrid at 0x7f6fe9007b90>"
            ]
          },
          "metadata": {
            "tags": []
          },
          "execution_count": 34
        },
        {
          "output_type": "display_data",
          "data": {
            "text/plain": [
              "<Figure size 3600x3600 with 0 Axes>"
            ]
          },
          "metadata": {
            "tags": []
          }
        },
        {
          "output_type": "display_data",
          "data": {
            "image/png": "[encoded data removed]",
            "text/plain": [
              "<Figure size 778.375x360 with 1 Axes>"
            ]
          },
          "metadata": {
            "tags": [],
            "needs_background": "light"
          }
        }
      ]
    }
  ]
}